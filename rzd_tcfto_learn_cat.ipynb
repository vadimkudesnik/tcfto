{
 "cells": [
  {
   "cell_type": "code",
   "execution_count": null,
   "metadata": {},
   "outputs": [],
   "source": [
    "%pip install setuptools\n",
    "%pip install ydata_profiling\n",
    "%pip install scikit-learn\n",
    "%pip install xlrd\n",
    "%pip install openpyxl\n",
    "%pip install ipywidgets\n",
    "%pip install statsmodels\n",
    "%pip install catboost"
   ]
  },
  {
   "cell_type": "code",
   "execution_count": null,
   "metadata": {},
   "outputs": [],
   "source": [
    "import pandas as pd\n",
    "import datetime as dt\n",
    "import numpy as np\n",
    "import matplotlib.pyplot as plt\n",
    "import scipy.stats as stats\n",
    "from ydata_profiling import ProfileReport\n",
    "%matplotlib inline\n",
    "import seaborn as sns\n",
    "from sklearn.model_selection import train_test_split\n",
    "from sklearn.linear_model import LogisticRegression\n",
    "from sklearn.preprocessing import LabelEncoder, StandardScaler\n",
    "from sklearn.metrics import accuracy_score, precision_score, recall_score, f1_score\n",
    "from sklearn.ensemble import RandomForestClassifier\n",
    "from sklearn.cluster import KMeans\n",
    "from scipy.cluster.hierarchy import dendrogram, linkage\n",
    "from statsmodels.tsa.stattools import adfuller\n",
    "from catboost import CatBoostRegressor\n",
    "import catboost\n",
    "from catboost import * "
   ]
  },
  {
   "cell_type": "code",
   "execution_count": null,
   "metadata": {},
   "outputs": [],
   "source": [
    "train=pd.read_excel(\"train.xlsx\")\n",
    "test=pd.read_excel(\"test.xlsx\")"
   ]
  },
  {
   "cell_type": "code",
   "execution_count": null,
   "metadata": {},
   "outputs": [],
   "source": [
    "X_train = train.drop(\"out\", axis = 1)\n",
    "X_test = test.drop(\"out\", axis = 1)\n",
    "X = pd.concat([X_train, X_test], axis=0)\n",
    "y_train = train[\"out\"]\n",
    "y_test = test[\"out\"]"
   ]
  },
  {
   "cell_type": "code",
   "execution_count": null,
   "metadata": {},
   "outputs": [],
   "source": [
    "X_train.info()"
   ]
  },
  {
   "cell_type": "code",
   "execution_count": null,
   "metadata": {},
   "outputs": [],
   "source": [
    "cat_model = CatBoostRegressor(loss_function=\"MAPE\", depth=16, iterations =  100, task_type=\"GPU\", eval_metric=\"SMAPE\")\n",
    "\n",
    "cat_model.fit(\n",
    "    X_train, y_train, use_best_model=False,\n",
    "    eval_set=(X_test, y_test),\n",
    "    verbose=True,  \n",
    "    plot=True,\n",
    ")\n",
    "cat_model.save_model(\"cat_model\")"
   ]
  },
  {
   "cell_type": "code",
   "execution_count": null,
   "metadata": {},
   "outputs": [],
   "source": [
    "# cat_model.score()"
   ]
  },
  {
   "cell_type": "code",
   "execution_count": null,
   "metadata": {},
   "outputs": [],
   "source": [
    "lr_model = LogisticRegression(max_iter = 100)  \n",
    "lr_model.fit(X_train,y_train)\n",
    "predictions = lr_model.predict(X_test)\n",
    "probabilities = lr_model.predict_proba(X_test)[:,1]\n",
    "acc = accuracy_score(y_test, predictions)\n",
    "precision = precision_score (y_test, predictions)\n",
    "recall = recall_score (y_test, predictions)\n",
    "print(acc, precision, recall) # вывод на экран метрик, характеризующих качество модели\n",
    "#lr_model.save_model(\"lr_model\")\n"
   ]
  },
  {
   "cell_type": "code",
   "execution_count": null,
   "metadata": {},
   "outputs": [],
   "source": [
    "rf_model = RandomForestClassifier(n_estimators = 100)\n",
    "rf_model.fit(X_train, y_train)\n",
    "y_pred = rf_model.predict(X_test) \n",
    "acc_rf = accuracy_score(y_test, y_pred)\n",
    "precision_rf = precision_score (y_test, y_pred)\n",
    "recall_rf = recall_score (y_test, y_pred)\n",
    "print(acc_rf, precision_rf, recall_rf)# вывод на экран метрик, характеризующих качество модели\n",
    "#rf_model.save_model(\"lr_model\")"
   ]
  }
 ],
 "metadata": {
  "kernelspec": {
   "display_name": ".venv",
   "language": "python",
   "name": "python3"
  },
  "language_info": {
   "codemirror_mode": {
    "name": "ipython",
    "version": 3
   },
   "file_extension": ".py",
   "mimetype": "text/x-python",
   "name": "python",
   "nbconvert_exporter": "python",
   "pygments_lexer": "ipython3",
   "version": "3.12.3"
  }
 },
 "nbformat": 4,
 "nbformat_minor": 2
}
