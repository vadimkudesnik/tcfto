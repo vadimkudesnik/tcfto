{
 "cells": [
  {
   "cell_type": "code",
   "execution_count": null,
   "metadata": {},
   "outputs": [],
   "source": [
    "%pip install setuptools\n",
    "%pip install ydata_profiling\n",
    "%pip install scikit-learn\n",
    "%pip install xlrd\n",
    "%pip install openpyxl\n",
    "%pip install ipywidgets\n",
    "%pip install statsmodels\n",
    "%pip install catboost"
   ]
  },
  {
   "cell_type": "code",
   "execution_count": null,
   "metadata": {},
   "outputs": [],
   "source": [
    "import pandas as pd\n",
    "import datetime as dt\n",
    "import numpy as np\n",
    "import matplotlib.pyplot as plt\n",
    "import scipy.stats as stats\n",
    "from ydata_profiling import ProfileReport\n",
    "%matplotlib inline\n",
    "import seaborn as sns\n",
    "from sklearn.model_selection import train_test_split\n",
    "from sklearn.linear_model import LogisticRegression\n",
    "from sklearn.preprocessing import LabelEncoder, StandardScaler\n",
    "from sklearn.metrics import accuracy_score, precision_score, recall_score, f1_score\n",
    "from sklearn.ensemble import RandomForestClassifier\n",
    "from sklearn.cluster import KMeans\n",
    "from scipy.cluster.hierarchy import dendrogram, linkage\n",
    "from statsmodels.tsa.stattools import adfuller\n",
    "from catboost import CatBoostRegressor\n",
    "import catboost\n",
    "from catboost import *\n",
    "import statsmodels.api as sm"
   ]
  },
  {
   "cell_type": "code",
   "execution_count": null,
   "metadata": {},
   "outputs": [],
   "source": [
    "excel_data=pd.read_excel(\"././dataset/Объёмы перевозок.xls\", skiprows=[0], header=[0,1])\n",
    "excel_data_volumes = excel_data"
   ]
  },
  {
   "cell_type": "code",
   "execution_count": null,
   "metadata": {},
   "outputs": [],
   "source": [
    "excel_data_volumes.sort_index(axis=1, inplace=True)\n",
    "num_col=len(excel_data_volumes.columns)\n",
    "left = excel_data_volumes.iloc[:, [num_col-5, num_col-4, num_col-3, num_col-2,num_col-1]]\n",
    "left.columns = left.columns.get_level_values(1)\n",
    "left = left.set_axis([\"id\", \"subj_from\", \"subj_to\", \"cargo_code\", \"cargo_type\"], axis = 1)"
   ]
  },
  {
   "cell_type": "code",
   "execution_count": null,
   "metadata": {},
   "outputs": [],
   "source": [
    "labelencodder = LabelEncoder()\n",
    "subj = pd.concat([left.loc[:, [\"subj_from\"]].rename(columns = {\"subj_from\": \"subj\"}), left.loc[:, [\"subj_to\"]].rename(columns = {\"subj_to\": \"subj\"})]).drop_duplicates(ignore_index=True)\n",
    "cargo_type = left.loc[:, [\"cargo_type\"]].drop_duplicates(ignore_index=True)\n",
    "subj.to_excel(\"././dataset/subj.xlsx\")\n",
    "cargo_type.to_excel(\"././dataset/cargo_type.xlsx\")"
   ]
  },
  {
   "cell_type": "code",
   "execution_count": null,
   "metadata": {},
   "outputs": [],
   "source": [
    "left.loc[:, [\"subj_from\"]] = left.loc[:, [\"subj_from\"]].apply(lambda x: subj[subj[\"subj\"] == x[\"subj_from\"]].index[0], axis=1)\n",
    "left.loc[:, [\"subj_to\"]] = left.loc[:, [\"subj_to\"]].apply(lambda x: subj[subj[\"subj\"] == x[\"subj_to\"]].index[0], axis=1)\n",
    "left.loc[:, [\"cargo_type\"]] = left.loc[:, [\"cargo_type\"]].apply(lambda x: cargo_type[cargo_type[\"cargo_type\"] == x[\"cargo_type\"]].index[0], axis=1)"
   ]
  },
  {
   "cell_type": "code",
   "execution_count": null,
   "metadata": {},
   "outputs": [],
   "source": [
    "left[\"subj_from\"] = left[\"subj_from\"].astype(\"int64\")\n",
    "left[\"subj_to\"] = left[\"subj_to\"].astype(\"int64\")\n",
    "left[\"cargo_type\"] = left[\"cargo_type\"].astype(\"int64\")"
   ]
  },
  {
   "cell_type": "code",
   "execution_count": null,
   "metadata": {},
   "outputs": [],
   "source": [
    "for i in range(int((num_col-5)/2)):\n",
    "    right = excel_data_volumes.iloc[:, [i*2,i*2+1]]\n",
    "    date = pd.to_datetime(excel_data_volumes.iloc[:, [i*2]].columns.get_level_values(0).to_list()[0], format=\"%Y/%m\")\n",
    "    \n",
    "    right.insert(2, (\"\", \"date\"), date)\n",
    "    right.insert(3, (\"\", \"month\"), date.month)\n",
    "    right.insert(4, (\"\", \"quarter\"), date.quarter)\n",
    "    right.insert(5, (\"\", \"year\"), date.year)\n",
    "    right.columns = right.columns.get_level_values(1)\n",
    "    right = right.set_axis([\"cargo_volume\", \"cargo_sales\", \"date\", \"month\", \"quarter\", \"year\"], axis=1)\n",
    "    right.insert(2, (\"cargo_price\"), right.apply(lambda x: (x[\"cargo_sales\"] / x[\"cargo_volume\"]) if x[\"cargo_volume\"] > 0 else x[\"cargo_sales\"], axis= 1))\n",
    "    if i == 0:\n",
    "        result = pd.concat([left, right], axis = 1, sort = False)\n",
    "    else:\n",
    "        result = pd.concat([result, pd.concat([left, right], axis = 1, sort = False)], axis = 0, ignore_index=True, sort=False)\n",
    "excel_data_volumes = result"
   ]
  },
  {
   "cell_type": "code",
   "execution_count": null,
   "metadata": {},
   "outputs": [],
   "source": [
    "excel_data_volumes.insert(12, (\"month_of_period\"), 0)"
   ]
  },
  {
   "cell_type": "code",
   "execution_count": null,
   "metadata": {},
   "outputs": [],
   "source": [
    "min = excel_data_volumes[\"year\"].min()\n",
    "excel_data_volumes[\"month_of_period\"] = excel_data_volumes[\"year\"].apply(lambda x: x - min)*12 + excel_data_volumes[\"month\"] \n",
    "excel_data_volumes = excel_data_volumes.drop(\"date\", axis = 1)"
   ]
  },
  {
   "cell_type": "code",
   "execution_count": null,
   "metadata": {},
   "outputs": [],
   "source": [
    "excel_data_volumes.to_excel(\"././dataset/volumes.xlsx\")"
   ]
  },
  {
   "cell_type": "code",
   "execution_count": null,
   "metadata": {},
   "outputs": [],
   "source": [
    "excel_data_volumes"
   ]
  },
  {
   "cell_type": "code",
   "execution_count": null,
   "metadata": {},
   "outputs": [],
   "source": [
    "excel_data=pd.read_excel(\"././dataset/MC_1.xls\", header=[0])\n",
    "excel_data_MC = excel_data\n",
    "excel_data=pd.read_excel(\"././dataset/MC_2.xls\", header=[0])\n",
    "excel_data_MC = pd.concat([excel_data_MC, excel_data], axis=0, ignore_index=True, sort=False)\n",
    "excel_data=pd.read_excel(\"././dataset/MC_4.xls\", header=[0])\n",
    "excel_data_MC = pd.concat([excel_data_MC, excel_data], axis=0, ignore_index=True, sort=False)\n",
    "excel_data=pd.read_excel(\"././dataset/MC_5.xls\", header=[0])\n",
    "excel_data_MC = pd.concat([excel_data_MC, excel_data], axis=0, ignore_index=True, sort=False)\n",
    "excel_data=pd.read_excel(\"././dataset/MC_6.xls\", header=[0])\n",
    "excel_data_MC = pd.concat([excel_data_MC, excel_data], axis=0, ignore_index=True, sort=False)\n",
    "excel_data=pd.read_excel(\"././dataset/MC_7.xls\", header=[0])\n",
    "excel_data_MC = pd.concat([excel_data_MC, excel_data], axis=0, ignore_index=True, sort=False)\n",
    "excel_data=pd.read_excel(\"././dataset/MC_8.xls\", header=[0])\n",
    "excel_data_MC = pd.concat([excel_data_MC, excel_data], axis=0, ignore_index=True, sort=False)"
   ]
  },
  {
   "cell_type": "code",
   "execution_count": null,
   "metadata": {},
   "outputs": [],
   "source": [
    "excel_data_MC = excel_data_MC.drop(excel_data_MC.columns[[3,4,6,7,8,13,15,17]], axis = 1).drop_duplicates()\n",
    "excel_data_MC = excel_data_MC.set_axis([\"id\", \"is_msp\", \"company_size\", \"company_okved2\", \"els\", \"is_otpr\", \"is_poluch\", \"index_pl\", \"index_fin\", \"kontrakt_type\"], axis=1)"
   ]
  },
  {
   "cell_type": "code",
   "execution_count": null,
   "metadata": {},
   "outputs": [],
   "source": [
    "excel_data_MC[\"is_msp\"] = excel_data_MC[\"is_msp\"].apply(lambda x: 1 if x == \"Да\" else 0)\n",
    "excel_data_MC[\"is_otpr\"] = excel_data_MC[\"is_otpr\"].apply(lambda x: 1 if x == \"Да\" else 0) \n",
    "excel_data_MC[\"is_poluch\"] = excel_data_MC[\"is_poluch\"].apply(lambda x: 1 if x == \"Да\" else 0) "
   ]
  },
  {
   "cell_type": "code",
   "execution_count": null,
   "metadata": {},
   "outputs": [],
   "source": [
    "excel_data_MC[\"company_size\"] = excel_data_MC[\"company_size\"].apply(lambda x: \"Неизвестно\" if x is np.nan else x)\n",
    "excel_data_MC[\"company_okved2\"] = excel_data_MC[\"company_okved2\"].apply(lambda x: \"0\" if x is np.nan else x)\n",
    "excel_data_MC[\"els\"] = excel_data_MC[\"els\"].apply(lambda x: 0 if x is np.nan else 1)\n",
    "excel_data_MC[\"index_pl\"] = excel_data_MC[\"index_pl\"].apply(lambda x: \"Недостаточно данных для расчета риска просрочки платежа\" if x is np.nan else x)\n",
    "excel_data_MC[\"index_fin\"] = excel_data_MC[\"index_fin\"].apply(lambda x: \"Недостаточно данных для расчета индекса финансового риска\" if x is np.nan else x)\n",
    "excel_data_MC[\"kontrakt_type\"] = excel_data_MC[\"kontrakt_type\"].apply(lambda x: \"Неизвестно\" if x is np.nan else x)"
   ]
  },
  {
   "cell_type": "code",
   "execution_count": null,
   "metadata": {},
   "outputs": [],
   "source": [
    "company_size = excel_data_MC.loc[:, [\"company_size\"]].drop_duplicates(ignore_index=True)\n",
    "company_size.to_excel(\"././dataset/company_size.xlsx\")\n",
    "index_pl = excel_data_MC.loc[:, [\"index_pl\"]].drop_duplicates(ignore_index=True)\n",
    "index_pl.to_excel(\"././dataset/index_pl.xlsx\")\n",
    "index_fin = excel_data_MC.loc[:, [\"index_fin\"]].drop_duplicates(ignore_index=True)\n",
    "index_fin.to_excel(\"././dataset/index_fin.xlsx\")\n",
    "kontrakt_type = excel_data_MC.loc[:, [\"kontrakt_type\"]].drop_duplicates(ignore_index=True)\n",
    "kontrakt_type.to_excel(\"././dataset/kontrakt_type.xlsx\")"
   ]
  },
  {
   "cell_type": "code",
   "execution_count": null,
   "metadata": {},
   "outputs": [],
   "source": [
    "excel_data_MC.loc[:, [\"company_size\"]] = excel_data_MC.loc[:, [\"company_size\"]].apply(lambda x: company_size[company_size[\"company_size\"] == x[\"company_size\"]].index[0], axis=1)\n",
    "excel_data_MC.loc[:, [\"index_pl\"]] = excel_data_MC.loc[:, [\"index_pl\"]].apply(lambda x: index_pl[index_pl[\"index_pl\"] == x[\"index_pl\"]].index[0], axis=1)\n",
    "excel_data_MC.loc[:, [\"index_fin\"]] = excel_data_MC.loc[:, [\"index_fin\"]].apply(lambda x: index_fin[index_fin[\"index_fin\"] == x[\"index_fin\"]].index[0], axis=1)\n",
    "excel_data_MC.loc[:, [\"kontrakt_type\"]] = excel_data_MC.loc[:, [\"kontrakt_type\"]].apply(lambda x: kontrakt_type[kontrakt_type[\"kontrakt_type\"] == x[\"kontrakt_type\"]].index[0], axis=1)"
   ]
  },
  {
   "cell_type": "code",
   "execution_count": null,
   "metadata": {},
   "outputs": [],
   "source": [
    "excel_data_MC = excel_data_MC.drop_duplicates()"
   ]
  },
  {
   "cell_type": "code",
   "execution_count": null,
   "metadata": {},
   "outputs": [],
   "source": [
    "company_okved2 = excel_data_MC.groupby(\"id\").apply(lambda x: list(set(list(x[\"company_okved2\"]))), include_groups=False)\n",
    "company_okved2 = company_okved2.reset_index().set_axis([\"id\", \"company_okved2\"], axis=1)  "
   ]
  },
  {
   "cell_type": "code",
   "execution_count": null,
   "metadata": {},
   "outputs": [],
   "source": [
    "is_msp = excel_data_MC.groupby(\"id\").apply(lambda x: max(x[\"is_msp\"]), include_groups=False)\n",
    "is_msp = is_msp.reset_index().set_axis([\"id\", \"is_msp\"], axis=1) "
   ]
  },
  {
   "cell_type": "code",
   "execution_count": null,
   "metadata": {},
   "outputs": [],
   "source": [
    "company_size = excel_data_MC.groupby(\"id\").apply(lambda x: max(x[\"company_size\"]), include_groups=False)\n",
    "company_size = company_size.reset_index().set_axis([\"id\", \"company_size\"], axis=1)     "
   ]
  },
  {
   "cell_type": "code",
   "execution_count": null,
   "metadata": {},
   "outputs": [],
   "source": [
    "els = excel_data_MC.groupby(\"id\").apply(lambda x: max(x[\"els\"]), include_groups=False)\n",
    "els = els.reset_index().set_axis([\"id\", \"els\"], axis=1)  "
   ]
  },
  {
   "cell_type": "code",
   "execution_count": null,
   "metadata": {},
   "outputs": [],
   "source": [
    "is_otpr = excel_data_MC.groupby(\"id\").apply(lambda x: max(x[\"is_otpr\"]), include_groups=False)\n",
    "is_otpr = is_otpr.reset_index().set_axis([\"id\", \"is_otpr\"], axis=1)  "
   ]
  },
  {
   "cell_type": "code",
   "execution_count": null,
   "metadata": {},
   "outputs": [],
   "source": [
    "is_poluch = excel_data_MC.groupby(\"id\").apply(lambda x: max(x[\"is_poluch\"]), include_groups=False)\n",
    "is_poluch = is_poluch.reset_index().set_axis([\"id\", \"is_poluch\"], axis=1) "
   ]
  },
  {
   "cell_type": "code",
   "execution_count": null,
   "metadata": {},
   "outputs": [],
   "source": [
    "index_pl = excel_data_MC.groupby(\"id\").apply(lambda x: max(x[\"index_pl\"]), include_groups=False)\n",
    "index_pl = index_pl.reset_index().set_axis([\"id\", \"index_pl\"], axis=1) "
   ]
  },
  {
   "cell_type": "code",
   "execution_count": null,
   "metadata": {},
   "outputs": [],
   "source": [
    "index_fin = excel_data_MC.groupby(\"id\").apply(lambda x: max(x[\"index_fin\"]), include_groups=False)\n",
    "index_fin = index_fin.reset_index().set_axis([\"id\", \"index_fin\"], axis=1) "
   ]
  },
  {
   "cell_type": "code",
   "execution_count": null,
   "metadata": {},
   "outputs": [],
   "source": [
    "kontrakt_type = excel_data_MC.groupby(\"id\").apply(lambda x: list(set(list(x[\"kontrakt_type\"]))), include_groups=False)\n",
    "kontrakt_type = kontrakt_type.reset_index().set_axis([\"id\", \"kontrakt_type\"], axis=1) "
   ]
  },
  {
   "cell_type": "code",
   "execution_count": null,
   "metadata": {},
   "outputs": [],
   "source": [
    "id = excel_data_MC[\"id\"].drop_duplicates()\n",
    "id = id.reset_index().drop(columns=[\"index\"])"
   ]
  },
  {
   "cell_type": "code",
   "execution_count": null,
   "metadata": {},
   "outputs": [],
   "source": [
    "excel_data_MC.info()"
   ]
  },
  {
   "cell_type": "code",
   "execution_count": null,
   "metadata": {},
   "outputs": [],
   "source": [
    "excel_data = pd.merge(id, is_msp, left_on=\"id\", right_on=\"id\")\n"
   ]
  },
  {
   "cell_type": "code",
   "execution_count": null,
   "metadata": {},
   "outputs": [],
   "source": [
    "excel_data = pd.merge(excel_data, company_size, left_on=\"id\", right_on=\"id\")"
   ]
  },
  {
   "cell_type": "code",
   "execution_count": null,
   "metadata": {},
   "outputs": [],
   "source": [
    "excel_data = pd.merge(excel_data, company_okved2, left_on=\"id\", right_on=\"id\")"
   ]
  },
  {
   "cell_type": "code",
   "execution_count": null,
   "metadata": {},
   "outputs": [],
   "source": [
    "excel_data = pd.merge(excel_data, els, left_on=\"id\", right_on=\"id\")"
   ]
  },
  {
   "cell_type": "code",
   "execution_count": null,
   "metadata": {},
   "outputs": [],
   "source": [
    "excel_data = pd.merge(excel_data, is_otpr, left_on=\"id\", right_on=\"id\")"
   ]
  },
  {
   "cell_type": "code",
   "execution_count": null,
   "metadata": {},
   "outputs": [],
   "source": [
    "excel_data = pd.merge(excel_data, is_poluch, left_on=\"id\", right_on=\"id\")"
   ]
  },
  {
   "cell_type": "code",
   "execution_count": null,
   "metadata": {},
   "outputs": [],
   "source": [
    "excel_data = pd.merge(excel_data, index_pl, left_on=\"id\", right_on=\"id\")"
   ]
  },
  {
   "cell_type": "code",
   "execution_count": null,
   "metadata": {},
   "outputs": [],
   "source": [
    "excel_data = pd.merge(excel_data, index_fin, left_on=\"id\", right_on=\"id\")"
   ]
  },
  {
   "cell_type": "code",
   "execution_count": null,
   "metadata": {},
   "outputs": [],
   "source": [
    "excel_data = pd.merge(excel_data, kontrakt_type, left_on=\"id\", right_on=\"id\")"
   ]
  },
  {
   "cell_type": "code",
   "execution_count": null,
   "metadata": {},
   "outputs": [],
   "source": [
    "excel_data_MC = excel_data"
   ]
  },
  {
   "cell_type": "code",
   "execution_count": null,
   "metadata": {},
   "outputs": [],
   "source": [
    "excel_data_MC.to_excel(\"././dataset/MC.xlsx\")"
   ]
  },
  {
   "cell_type": "code",
   "execution_count": null,
   "metadata": {},
   "outputs": [],
   "source": [
    "excel_data_MC.info()"
   ]
  },
  {
   "cell_type": "code",
   "execution_count": null,
   "metadata": {},
   "outputs": [],
   "source": [
    "data_pd = excel_data_volumes.drop(\"subj_from\", axis = 1)\n",
    "data_pd = data_pd.drop(\"subj_to\", axis = 1)\n",
    "data_pd = data_pd.drop(\"cargo_code\", axis = 1)\n",
    "data_pd = data_pd.drop(\"cargo_type\", axis = 1)\n"
   ]
  },
  {
   "cell_type": "code",
   "execution_count": null,
   "metadata": {},
   "outputs": [],
   "source": [
    "data_pd = data_pd.groupby([\"id\", \"month_of_period\", \"year\", \"quarter\", \"month\" ], as_index=False).sum()"
   ]
  },
  {
   "cell_type": "code",
   "execution_count": null,
   "metadata": {},
   "outputs": [],
   "source": [
    "data_pd[\"innactive\"] = 0\n",
    "data_pd[\"active\"] = 0\n",
    "data_pd[\"innactive\"] = data_pd.apply(lambda x: 1 if ((x[\"cargo_volume\"] == 0) & (x[\"cargo_sales\"] == 0)) else 0, axis=1)\n",
    "data_pd[\"active\"] = data_pd.apply(lambda x: 1 if ((x[\"cargo_volume\"] > 0) & (x[\"cargo_sales\"] > 0)) else 0, axis=1)"
   ]
  },
  {
   "cell_type": "code",
   "execution_count": null,
   "metadata": {},
   "outputs": [],
   "source": [
    "data_pd.head(10)"
   ]
  },
  {
   "cell_type": "code",
   "execution_count": null,
   "metadata": {},
   "outputs": [],
   "source": [
    "data_pd[\"outflow\"] = 0\n",
    "\n",
    "def calc_innactive(row):\n",
    "    prev_row_value = 0\n",
    "    row_value = data_pd.iloc[row.name][\"innactive\"]\n",
    "    row_id = data_pd.iloc[row.name][\"id\"]\n",
    "    if row.name > 0:\n",
    "        prev_row_id = data_pd.iloc[row.name - 1][\"id\"]\n",
    "        if row_id == prev_row_id:\n",
    "            if  row_value > 0:\n",
    "                prev_row_value = data_pd.iloc[row.name - 1][\"innactive\"]\n",
    "                data_pd.iloc[row.name, data_pd.columns.get_loc(\"innactive\")] = prev_row_value + 1\n",
    "                row_value = data_pd.iloc[row.name][\"innactive\"]\n",
    "                if row_value > 11:\n",
    "                    prev_row_value = 1\n",
    "                else:\n",
    "                    prev_row_value = row_value/12\n",
    "            else: \n",
    "                prev_row_value = 0\n",
    "    return prev_row_value\n",
    "\n",
    "def calc_active(row):\n",
    "    row_value = data_pd.iloc[row.name][\"active\"]\n",
    "    row_id = data_pd.iloc[row.name][\"id\"]\n",
    "    if row.name > 0:\n",
    "        prev_row_id = data_pd.iloc[row.name - 1][\"id\"]\n",
    "        if row_id == prev_row_id:\n",
    "            if  row_value > 0:\n",
    "                prev_row_value = data_pd.iloc[row.name - 1][\"active\"]\n",
    "                data_pd.iloc[row.name, data_pd.columns.get_loc(\"active\")] = prev_row_value + 1\n",
    "    return 0\n",
    "\n",
    "data_pd[\"outflow\"] = data_pd.apply(calc_innactive, axis=1)\n",
    "# data_pd[\"innactive\"] = data_pd.apply(lambda x: 1 if ((x[\"cargo_volume\"] == 0) & (x[\"cargo_sales\"] == 0)) else 0, axis=1)\n",
    "data_pd.apply(calc_active, axis=1)\n"
   ]
  },
  {
   "cell_type": "code",
   "execution_count": null,
   "metadata": {},
   "outputs": [],
   "source": [
    "data_pd[\"innactive\"] = data_pd.apply(lambda x: 1 if ((x[\"cargo_volume\"] == 0) & (x[\"cargo_sales\"] == 0)) else 0, axis=1)\n",
    "data_pd[\"active\"] = data_pd.apply(lambda x: 1 if ((x[\"cargo_volume\"] > 0) & (x[\"cargo_sales\"] > 0)) else 0, axis=1)"
   ]
  },
  {
   "cell_type": "code",
   "execution_count": null,
   "metadata": {},
   "outputs": [],
   "source": [
    "excel_data = data_pd[data_pd[\"month_of_period\"] == max(data_pd[\"month_of_period\"])].loc[:, [\"id\", \"outflow\"]].reset_index()"
   ]
  },
  {
   "cell_type": "code",
   "execution_count": null,
   "metadata": {},
   "outputs": [],
   "source": [
    "excel_data = excel_data.drop(columns = [\"index\"])"
   ]
  },
  {
   "cell_type": "code",
   "execution_count": null,
   "metadata": {},
   "outputs": [],
   "source": [
    "excel_data[\"outflow\"] = excel_data[\"outflow\"].apply(lambda x: 1 if x ==1 else 0)"
   ]
  },
  {
   "cell_type": "code",
   "execution_count": null,
   "metadata": {},
   "outputs": [],
   "source": [
    "data_pd = data_pd.drop(columns = [\"month_of_period\", \"year\", \"quarter\", \"month\", \"outflow\"]).groupby([\"id\"]).sum()"
   ]
  },
  {
   "cell_type": "code",
   "execution_count": null,
   "metadata": {},
   "outputs": [],
   "source": [
    "data_pd[\"activity\"] = data_pd.apply(lambda x: x[\"active\"]/(x[\"active\"]+x[\"innactive\"]), axis = 1)"
   ]
  },
  {
   "cell_type": "code",
   "execution_count": null,
   "metadata": {},
   "outputs": [],
   "source": [
    "data_pd = data_pd.drop(columns=[\"innactive\", \"active\"])"
   ]
  },
  {
   "cell_type": "code",
   "execution_count": null,
   "metadata": {},
   "outputs": [],
   "source": [
    "data_pd"
   ]
  },
  {
   "cell_type": "code",
   "execution_count": null,
   "metadata": {},
   "outputs": [],
   "source": [
    "data_pd = pd.merge(data_pd, excel_data, left_on=\"id\", right_on=\"id\")"
   ]
  },
  {
   "cell_type": "code",
   "execution_count": null,
   "metadata": {},
   "outputs": [],
   "source": [
    "data_pd = data_pd.drop(columns=[\"cargo_price\"])"
   ]
  },
  {
   "cell_type": "code",
   "execution_count": null,
   "metadata": {},
   "outputs": [],
   "source": [
    "data_pd = data_pd.rename(columns = {\"outflow\" : \"out\"})"
   ]
  },
  {
   "cell_type": "code",
   "execution_count": null,
   "metadata": {},
   "outputs": [],
   "source": [
    "data_pd"
   ]
  },
  {
   "cell_type": "code",
   "execution_count": null,
   "metadata": {},
   "outputs": [],
   "source": [
    "excel_data_MC"
   ]
  },
  {
   "cell_type": "code",
   "execution_count": null,
   "metadata": {},
   "outputs": [],
   "source": [
    "excel_data = pd.merge(excel_data_MC, data_pd, left_on=\"id\", right_on=\"id\", how=\"outer\")"
   ]
  },
  {
   "cell_type": "code",
   "execution_count": null,
   "metadata": {},
   "outputs": [],
   "source": [
    "excel_data"
   ]
  },
  {
   "cell_type": "code",
   "execution_count": null,
   "metadata": {},
   "outputs": [],
   "source": [
    "excel_data = excel_data[excel_data[\"out\"].notna()]"
   ]
  },
  {
   "cell_type": "code",
   "execution_count": null,
   "metadata": {},
   "outputs": [],
   "source": [
    "excel_data.loc[:, [\"is_msp\"]] = excel_data.loc[:, [\"is_msp\"]].fillna(0).astype(\"int64\")"
   ]
  },
  {
   "cell_type": "code",
   "execution_count": null,
   "metadata": {},
   "outputs": [],
   "source": [
    "excel_data.loc[:, [\"company_size\"]] = excel_data.loc[:, [\"company_size\"]].fillna(0).astype(\"int64\")"
   ]
  },
  {
   "cell_type": "code",
   "execution_count": null,
   "metadata": {},
   "outputs": [],
   "source": [
    "excel_data.loc[:, [\"company_okved2\"]] = excel_data.loc[:, [\"company_okved2\"]].fillna(0).apply(lambda x: x[\"company_okved2\"] if x[\"company_okved2\"] !=0 else [0], axis =1)"
   ]
  },
  {
   "cell_type": "code",
   "execution_count": null,
   "metadata": {},
   "outputs": [],
   "source": [
    "excel_data.loc[:, [\"els\"]] = excel_data.loc[:, [\"els\"]].fillna(0).astype(\"int64\")"
   ]
  },
  {
   "cell_type": "code",
   "execution_count": null,
   "metadata": {},
   "outputs": [],
   "source": [
    "excel_data.loc[:, [\"is_otpr\"]] = excel_data.loc[:, [\"is_otpr\"]].fillna(1).astype(\"int64\")"
   ]
  },
  {
   "cell_type": "code",
   "execution_count": null,
   "metadata": {},
   "outputs": [],
   "source": [
    "excel_data.loc[:, [\"is_poluch\"]] = excel_data.loc[:, [\"is_poluch\"]].fillna(0).astype(\"int64\")"
   ]
  },
  {
   "cell_type": "code",
   "execution_count": null,
   "metadata": {},
   "outputs": [],
   "source": [
    "excel_data.loc[:, [\"index_pl\"]] = excel_data.loc[:, [\"index_pl\"]].fillna(0).astype(\"int64\")"
   ]
  },
  {
   "cell_type": "code",
   "execution_count": null,
   "metadata": {},
   "outputs": [],
   "source": [
    "excel_data.loc[:, [\"index_fin\"]] = excel_data.loc[:, [\"index_fin\"]].fillna(0).astype(\"int64\")"
   ]
  },
  {
   "cell_type": "code",
   "execution_count": null,
   "metadata": {},
   "outputs": [],
   "source": [
    "excel_data.loc[:, [\"kontrakt_type\"]] = excel_data.loc[:, [\"kontrakt_type\"]].fillna(0).apply(lambda x: x[\"kontrakt_type\"] if x[\"kontrakt_type\"] !=0 else [0], axis =1)"
   ]
  },
  {
   "cell_type": "code",
   "execution_count": null,
   "metadata": {},
   "outputs": [],
   "source": [
    "excel_data = excel_data.convert_dtypes()"
   ]
  },
  {
   "cell_type": "code",
   "execution_count": null,
   "metadata": {},
   "outputs": [],
   "source": [
    "excel_data = excel_data.reset_index().drop(columns=[\"index\"])"
   ]
  },
  {
   "cell_type": "code",
   "execution_count": null,
   "metadata": {},
   "outputs": [],
   "source": [
    "excel_data.to_excel(\"././dataset/merge_data.xlsx\")"
   ]
  },
  {
   "cell_type": "code",
   "execution_count": null,
   "metadata": {},
   "outputs": [],
   "source": [
    "excel_data"
   ]
  },
  {
   "cell_type": "code",
   "execution_count": null,
   "metadata": {},
   "outputs": [],
   "source": [
    "ProfileReport(excel_data, minimal = True) # Формирование отчета для исследования данных"
   ]
  },
  {
   "cell_type": "code",
   "execution_count": null,
   "metadata": {},
   "outputs": [],
   "source": [
    "excel_data.groupby(by = \"out\").mean() # расчет средних значений признаков для тех кто ушел и остался"
   ]
  },
  {
   "cell_type": "code",
   "execution_count": null,
   "metadata": {},
   "outputs": [],
   "source": [
    "cor = excel_data.corr() # матрица корреляций\n",
    "fig, ax = plt.subplots(figsize=(15,5)) \n",
    "sns.heatmap(cor, annot = True, fmt = \".2f\") # тепловая карта на основе матрицы корреляций"
   ]
  },
  {
   "cell_type": "code",
   "execution_count": null,
   "metadata": {},
   "outputs": [],
   "source": [
    "keep = excel_data['id'].drop_duplicates().sample(frac=0.7)\n",
    "m = excel_data['id'].isin(keep)\n",
    "train = excel_data[m]\n",
    "test = excel_data[~m]\n",
    "\n",
    "train.to_excel(\"train.xlsx\")\n",
    "test.to_excel(\"test.xlsx\")"
   ]
  },
  {
   "cell_type": "code",
   "execution_count": null,
   "metadata": {},
   "outputs": [],
   "source": [
    "X_train = train.drop(\"out\", axis = 1)\n",
    "y_train = train[\"out\"] # разделение данных на признаки (матрица X) и целевую переменную (y)\n",
    "X_test = test.drop(\"out\", axis = 1).drop(\"out\", axis = 1)\n",
    "y_test = test[\"out\"] # разделение данных на признаки (матрица X) и целевую переменную (y)\n",
    "\n",
    "X = pd.concat([X_train, X_test], axis=0)"
   ]
  },
  {
   "cell_type": "code",
   "execution_count": null,
   "metadata": {},
   "outputs": [],
   "source": [
    "model = LogisticRegression(max_iter = 1000)  \n",
    "model.fit(X_train,y_train)\n",
    "predictions = model.predict(X_test)\n",
    "probabilities = model.predict_proba(X_test)[:,1]\n",
    "acc = accuracy_score(y_test, predictions)\n",
    "precision = precision_score (y_test, predictions)\n",
    "recall = recall_score (y_test, predictions)\n",
    "print(acc, precision, recall) # вывод на экран метрик, характеризующих качество модели"
   ]
  },
  {
   "cell_type": "code",
   "execution_count": null,
   "metadata": {},
   "outputs": [],
   "source": [
    "rf_model = RandomForestClassifier(n_estimators = 100)\n",
    "rf_model.fit(X_train, y_train)\n",
    "y_pred = rf_model.predict(X_test) \n",
    "acc_rf = accuracy_score(y_test, y_pred)\n",
    "precision_rf = precision_score (y_test, y_pred)\n",
    "recall_rf = recall_score (y_test, y_pred)\n",
    "print(acc_rf, precision_rf, recall_rf)# вывод на экран метрик, характеризующих качество модели"
   ]
  },
  {
   "cell_type": "code",
   "execution_count": null,
   "metadata": {},
   "outputs": [],
   "source": [
    "sc = StandardScaler()\n",
    "X_sc = sc.fit_transform(X)\n",
    "linked = linkage(X_sc, method = \"ward\")\n",
    "plt.figure(figsize=(15, 10))  \n",
    "dendrogram(linked, orientation=\"top\")\n",
    "plt.show() # вывод на экран дендрограммы"
   ]
  }
 ],
 "metadata": {
  "kernelspec": {
   "display_name": ".venv",
   "language": "python",
   "name": "python3"
  },
  "language_info": {
   "codemirror_mode": {
    "name": "ipython",
    "version": 3
   },
   "file_extension": ".py",
   "mimetype": "text/x-python",
   "name": "python",
   "nbconvert_exporter": "python",
   "pygments_lexer": "ipython3",
   "version": "3.12.3"
  }
 },
 "nbformat": 4,
 "nbformat_minor": 2
}
