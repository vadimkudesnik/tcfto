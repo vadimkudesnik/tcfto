{
 "cells": [
  {
   "cell_type": "code",
   "execution_count": null,
   "metadata": {},
   "outputs": [],
   "source": [
    "%pip install setuptools\n",
    "%pip install ydata_profiling\n",
    "%pip install scikit-learn\n",
    "%pip install xlrd\n",
    "%pip install openpyxl\n",
    "%pip install ipywidgets\n",
    "%pip install statsmodels\n",
    "%pip install catboost"
   ]
  },
  {
   "cell_type": "code",
   "execution_count": null,
   "metadata": {},
   "outputs": [],
   "source": [
    "import pandas as pd\n",
    "import datetime as dt\n",
    "import numpy as np\n",
    "import matplotlib.pyplot as plt\n",
    "import scipy.stats as stats\n",
    "from ydata_profiling import ProfileReport\n",
    "%matplotlib inline\n",
    "import seaborn as sns\n",
    "from sklearn.model_selection import train_test_split\n",
    "from sklearn.linear_model import LogisticRegression\n",
    "from sklearn.preprocessing import LabelEncoder, StandardScaler\n",
    "from sklearn.metrics import accuracy_score, precision_score, recall_score, f1_score\n",
    "from sklearn.ensemble import RandomForestClassifier\n",
    "from sklearn.cluster import KMeans\n",
    "from scipy.cluster.hierarchy import dendrogram, linkage\n",
    "from statsmodels.tsa.stattools import adfuller\n",
    "from catboost import CatBoostRegressor\n",
    "import catboost\n",
    "from catboost import * "
   ]
  },
  {
   "cell_type": "code",
   "execution_count": null,
   "metadata": {},
   "outputs": [],
   "source": [
    "train=pd.read_excel(\"train.xlsx\")\n",
    "test=pd.read_excel(\"test.xlsx\")"
   ]
  },
  {
   "cell_type": "code",
   "execution_count": null,
   "metadata": {},
   "outputs": [],
   "source": [
    "X_train = train.drop(\"out\", axis = 1)\n",
    "X_test = test.drop(\"out\", axis = 1)\n",
    "X = pd.concat([X_train, X_test], axis=0)\n",
    "y_train = train[\"out\"]\n",
    "y_test = test[\"out\"]"
   ]
  },
  {
   "cell_type": "code",
   "execution_count": null,
   "metadata": {},
   "outputs": [],
   "source": [
    "X_train.info()"
   ]
  },
  {
   "cell_type": "code",
   "execution_count": null,
   "metadata": {},
   "outputs": [],
   "source": [
    "cat_model.load_model(\"cat_model\")\n",
    "cat_model.score()"
   ]
  },
  {
   "cell_type": "code",
   "execution_count": null,
   "metadata": {},
   "outputs": [],
   "source": [
    "cat_model.eval_metrics(X, metrics = [\"RMSE\", \"Logloss\", \"Precision\", \"Recall\", \"Accuracy\"])"
   ]
  },
  {
   "cell_type": "code",
   "execution_count": null,
   "metadata": {},
   "outputs": [],
   "source": [
    "predictions =  cat_model.predict(\n",
    "    X,\n",
    "    task_type = \"GPU\",\n",
    "    prediction_type = \"Probability\",\n",
    "    verbose = True\n",
    ")\n"
   ]
  },
  {
   "cell_type": "code",
   "execution_count": null,
   "metadata": {},
   "outputs": [],
   "source": [
    "sc = StandardScaler()\n",
    "X_sc = sc.fit_transform(X)\n",
    "cl = 5 # количество кластеров выбранов соответствии с дендрограммой, а также на основе анализа нескольких вариантов\n",
    "km = KMeans(n_clusters = cl)\n",
    "labels = km.fit_predict(X_sc)\n"
   ]
  },
  {
   "cell_type": "code",
   "execution_count": null,
   "metadata": {},
   "outputs": [],
   "source": [
    "linked = linkage(X_sc, method = \"ward\")\n",
    "plt.figure(figsize=(15, 10))  \n",
    "dendrogram(linked, orientation=\"top\")\n",
    "plt.show() # вывод на экран дендрограммы"
   ]
  },
  {
   "cell_type": "code",
   "execution_count": null,
   "metadata": {},
   "outputs": [],
   "source": [
    "ProfileReport(X, minimal = True) # Формирование отчета для исследования данных"
   ]
  },
  {
   "cell_type": "code",
   "execution_count": null,
   "metadata": {},
   "outputs": [],
   "source": [
    "X.groupby(by = \"out\").mean() # расчет средних значений признаков для тех кто ушел и остался"
   ]
  },
  {
   "cell_type": "code",
   "execution_count": null,
   "metadata": {},
   "outputs": [],
   "source": [
    "cor = X.corr() # матрица корреляций\n",
    "fig, ax = plt.subplots(figsize=(15,5)) \n",
    "sns.heatmap(cor, annot = True, fmt = \".2f\") # тепловая карта на основе матрицы корреляций"
   ]
  }
 ],
 "metadata": {
  "language_info": {
   "name": "python"
  }
 },
 "nbformat": 4,
 "nbformat_minor": 2
}
